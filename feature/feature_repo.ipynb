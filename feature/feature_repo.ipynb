{
 "cells": [
  {
   "cell_type": "code",
   "execution_count": 2,
   "metadata": {},
   "outputs": [
    {
     "name": "stdout",
     "output_type": "stream",
     "text": [
      "Feature Views:\n",
      "  • driver_hourly_stats_fresh\n",
      "  • driver_hourly_stats\n",
      "  • athlete_demographics_v1\n",
      "\n",
      "Entities:\n",
      "  • athlete_id\n",
      "  • driver\n",
      "\n",
      "Features in athlete_demographics_v1:\n",
      "  • gender (Int64)\n",
      "  • candj (Float32)\n",
      "  • snatch (Float32)\n",
      "  • deadlift (Float32)\n",
      "  • weight (Float32)\n",
      "  • athlete_id (String)\n",
      "  • age (Int64)\n",
      "  • backsq (Float32)\n",
      "  • height (Float32)\n"
     ]
    }
   ],
   "source": [
    "from feast import FeatureStore\n",
    "\n",
    "store = FeatureStore(repo_path=\"/Users/christinadong/Documents/MLops/ml-feature-store-pipeline/feature/athlete_feature_store/feature_repo\")\n",
    "\n",
    "# List all feature views\n",
    "print(\"Feature Views:\")\n",
    "for fv in store.list_feature_views():\n",
    "    print(f\"  • {fv.name}\")\n",
    "\n",
    "# List all entities\n",
    "print(\"\\nEntities:\")\n",
    "for entity in store.list_entities():\n",
    "    print(f\"  • {entity.name}\")\n",
    "\n",
    "# List features from a specific FeatureView\n",
    "fv = store.get_feature_view(\"athlete_demographics_v1\")\n",
    "print(\"\\nFeatures in athlete_demographics_v1:\")\n",
    "for field in fv.schema:\n",
    "    print(f\"  • {field.name} ({field.dtype})\")"
   ]
  }
 ],
 "metadata": {
  "kernelspec": {
   "display_name": "mlops-env",
   "language": "python",
   "name": "python3"
  },
  "language_info": {
   "codemirror_mode": {
    "name": "ipython",
    "version": 3
   },
   "file_extension": ".py",
   "mimetype": "text/x-python",
   "name": "python",
   "nbconvert_exporter": "python",
   "pygments_lexer": "ipython3",
   "version": "3.10.18"
  }
 },
 "nbformat": 4,
 "nbformat_minor": 2
}
